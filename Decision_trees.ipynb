{
 "cells": [
  {
   "cell_type": "code",
   "execution_count": 89,
   "metadata": {},
   "outputs": [],
   "source": [
    "import numpy as np \n",
    "import pandas as pd\n",
    "import math\n",
    "from scipy.stats import entropy as en"
   ]
  },
  {
   "cell_type": "code",
   "execution_count": 90,
   "metadata": {},
   "outputs": [
    {
     "data": {
      "text/html": [
       "<div>\n",
       "<style scoped>\n",
       "    .dataframe tbody tr th:only-of-type {\n",
       "        vertical-align: middle;\n",
       "    }\n",
       "\n",
       "    .dataframe tbody tr th {\n",
       "        vertical-align: top;\n",
       "    }\n",
       "\n",
       "    .dataframe thead th {\n",
       "        text-align: right;\n",
       "    }\n",
       "</style>\n",
       "<table border=\"1\" class=\"dataframe\">\n",
       "  <thead>\n",
       "    <tr style=\"text-align: right;\">\n",
       "      <th></th>\n",
       "      <th>Referrer</th>\n",
       "      <th>Location</th>\n",
       "      <th>Read_FAQ</th>\n",
       "      <th>Pages_Viewed</th>\n",
       "      <th>Service_Chosen</th>\n",
       "    </tr>\n",
       "  </thead>\n",
       "  <tbody>\n",
       "    <tr>\n",
       "      <th>0</th>\n",
       "      <td>Slashdot</td>\n",
       "      <td>USA</td>\n",
       "      <td>Yes</td>\n",
       "      <td>Mid</td>\n",
       "      <td>None</td>\n",
       "    </tr>\n",
       "    <tr>\n",
       "      <th>1</th>\n",
       "      <td>Google</td>\n",
       "      <td>France</td>\n",
       "      <td>Yes</td>\n",
       "      <td>High</td>\n",
       "      <td>Premium</td>\n",
       "    </tr>\n",
       "    <tr>\n",
       "      <th>2</th>\n",
       "      <td>Digg</td>\n",
       "      <td>USA</td>\n",
       "      <td>Yes</td>\n",
       "      <td>High</td>\n",
       "      <td>Basic</td>\n",
       "    </tr>\n",
       "    <tr>\n",
       "      <th>3</th>\n",
       "      <td>Kiwitobes</td>\n",
       "      <td>France</td>\n",
       "      <td>Yes</td>\n",
       "      <td>High</td>\n",
       "      <td>Basic</td>\n",
       "    </tr>\n",
       "    <tr>\n",
       "      <th>4</th>\n",
       "      <td>Google</td>\n",
       "      <td>UK</td>\n",
       "      <td>No</td>\n",
       "      <td>Mid</td>\n",
       "      <td>Premium</td>\n",
       "    </tr>\n",
       "    <tr>\n",
       "      <th>5</th>\n",
       "      <td>(direct)</td>\n",
       "      <td>'New Zealand'</td>\n",
       "      <td>No</td>\n",
       "      <td>Low</td>\n",
       "      <td>None</td>\n",
       "    </tr>\n",
       "    <tr>\n",
       "      <th>6</th>\n",
       "      <td>(direct)</td>\n",
       "      <td>UK</td>\n",
       "      <td>No</td>\n",
       "      <td>Mid</td>\n",
       "      <td>Basic</td>\n",
       "    </tr>\n",
       "    <tr>\n",
       "      <th>7</th>\n",
       "      <td>Google</td>\n",
       "      <td>USA</td>\n",
       "      <td>No</td>\n",
       "      <td>High</td>\n",
       "      <td>Premium</td>\n",
       "    </tr>\n",
       "    <tr>\n",
       "      <th>8</th>\n",
       "      <td>Slashdot</td>\n",
       "      <td>France</td>\n",
       "      <td>Yes</td>\n",
       "      <td>Mid</td>\n",
       "      <td>None</td>\n",
       "    </tr>\n",
       "    <tr>\n",
       "      <th>9</th>\n",
       "      <td>Digg</td>\n",
       "      <td>USA</td>\n",
       "      <td>No</td>\n",
       "      <td>Mid</td>\n",
       "      <td>None</td>\n",
       "    </tr>\n",
       "    <tr>\n",
       "      <th>10</th>\n",
       "      <td>Google</td>\n",
       "      <td>UK</td>\n",
       "      <td>No</td>\n",
       "      <td>Mid</td>\n",
       "      <td>None</td>\n",
       "    </tr>\n",
       "    <tr>\n",
       "      <th>11</th>\n",
       "      <td>Kiwitobes</td>\n",
       "      <td>UK</td>\n",
       "      <td>No</td>\n",
       "      <td>Mid</td>\n",
       "      <td>None</td>\n",
       "    </tr>\n",
       "    <tr>\n",
       "      <th>12</th>\n",
       "      <td>Digg</td>\n",
       "      <td>'New Zealand'</td>\n",
       "      <td>Yes</td>\n",
       "      <td>Low</td>\n",
       "      <td>Basic</td>\n",
       "    </tr>\n",
       "    <tr>\n",
       "      <th>13</th>\n",
       "      <td>Google</td>\n",
       "      <td>UK</td>\n",
       "      <td>Yes</td>\n",
       "      <td>Mid</td>\n",
       "      <td>Basic</td>\n",
       "    </tr>\n",
       "    <tr>\n",
       "      <th>14</th>\n",
       "      <td>Kiwitobes</td>\n",
       "      <td>France</td>\n",
       "      <td>Yes</td>\n",
       "      <td>Mid</td>\n",
       "      <td>Basic</td>\n",
       "    </tr>\n",
       "    <tr>\n",
       "      <th>15</th>\n",
       "      <td>Google</td>\n",
       "      <td>UK</td>\n",
       "      <td>No</td>\n",
       "      <td>Mid</td>\n",
       "      <td>Premium</td>\n",
       "    </tr>\n",
       "    <tr>\n",
       "      <th>16</th>\n",
       "      <td>Digg</td>\n",
       "      <td>USA</td>\n",
       "      <td>No</td>\n",
       "      <td>Low</td>\n",
       "      <td>Basic</td>\n",
       "    </tr>\n",
       "    <tr>\n",
       "      <th>17</th>\n",
       "      <td>Slashdot</td>\n",
       "      <td>'New Zealand'</td>\n",
       "      <td>Yes</td>\n",
       "      <td>High</td>\n",
       "      <td>None</td>\n",
       "    </tr>\n",
       "  </tbody>\n",
       "</table>\n",
       "</div>"
      ],
      "text/plain": [
       "     Referrer       Location Read_FAQ Pages_Viewed Service_Chosen\n",
       "0    Slashdot            USA      Yes          Mid           None\n",
       "1      Google         France      Yes         High        Premium\n",
       "2        Digg            USA      Yes         High          Basic\n",
       "3   Kiwitobes         France      Yes         High          Basic\n",
       "4      Google             UK       No          Mid        Premium\n",
       "5    (direct)  'New Zealand'       No          Low           None\n",
       "6    (direct)             UK       No          Mid          Basic\n",
       "7      Google            USA       No         High        Premium\n",
       "8    Slashdot         France      Yes          Mid           None\n",
       "9        Digg            USA       No          Mid           None\n",
       "10     Google             UK       No          Mid           None\n",
       "11  Kiwitobes             UK       No          Mid           None\n",
       "12       Digg  'New Zealand'      Yes          Low          Basic\n",
       "13     Google             UK      Yes          Mid          Basic\n",
       "14  Kiwitobes         France      Yes          Mid          Basic\n",
       "15     Google             UK       No          Mid        Premium\n",
       "16       Digg            USA       No          Low          Basic\n",
       "17   Slashdot  'New Zealand'      Yes         High           None"
      ]
     },
     "execution_count": 90,
     "metadata": {},
     "output_type": "execute_result"
    }
   ],
   "source": [
    "predict_df =pd.read_csv(\"PredictingSignupsTrain.csv\")\n",
    "predict_df"
   ]
  },
  {
   "cell_type": "code",
   "execution_count": 91,
   "metadata": {},
   "outputs": [
    {
     "name": "stdout",
     "output_type": "stream",
     "text": [
      "Class None: \n",
      " Slashdot     3\n",
      "Google       1\n",
      "Digg         1\n",
      "(direct)     1\n",
      "Kiwitobes    1\n",
      "Name: Referrer, dtype: int64\n",
      "Class Basic: \n",
      " Digg         3\n",
      "Kiwitobes    2\n",
      "Google       1\n",
      "(direct)     1\n",
      "Name: Referrer, dtype: int64\n",
      "Class Premium: \n",
      " Google    4\n",
      "Name: Referrer, dtype: int64\n"
     ]
    }
   ],
   "source": [
    "class_none = predict_df[predict_df[\"Service_Chosen\"]== 'None']\n",
    "print(\"Class None: \\n\", class_none['Referrer'].value_counts())\n",
    "class_none = predict_df[predict_df[\"Service_Chosen\"]== 'Basic']\n",
    "print(\"Class Basic: \\n\", class_none['Referrer'].value_counts())\n",
    "class_none = predict_df[predict_df[\"Service_Chosen\"]== 'Premium']\n",
    "print(\"Class Premium: \\n\", class_none['Referrer'].value_counts())"
   ]
  },
  {
   "cell_type": "code",
   "execution_count": 92,
   "metadata": {},
   "outputs": [
    {
     "name": "stdout",
     "output_type": "stream",
     "text": [
      "Class None: \n",
      " USA              2\n",
      "'New Zealand'    2\n",
      "UK               2\n",
      "France           1\n",
      "Name: Location, dtype: int64\n",
      "Class Basic: \n",
      " USA              2\n",
      "France           2\n",
      "UK               2\n",
      "'New Zealand'    1\n",
      "Name: Location, dtype: int64\n",
      "Class Premium: \n",
      " UK        2\n",
      "USA       1\n",
      "France    1\n",
      "Name: Location, dtype: int64\n"
     ]
    }
   ],
   "source": [
    "class_none = predict_df[predict_df[\"Service_Chosen\"]== 'None']\n",
    "print(\"Class None: \\n\", class_none['Location'].value_counts())\n",
    "class_none = predict_df[predict_df[\"Service_Chosen\"]== 'Basic']\n",
    "print(\"Class Basic: \\n\", class_none['Location'].value_counts())\n",
    "class_none = predict_df[predict_df[\"Service_Chosen\"]== 'Premium']\n",
    "print(\"Class Premium: \\n\", class_none['Location'].value_counts())"
   ]
  },
  {
   "cell_type": "code",
   "execution_count": 93,
   "metadata": {},
   "outputs": [
    {
     "name": "stdout",
     "output_type": "stream",
     "text": [
      "Class None: \n",
      " No     4\n",
      "Yes    3\n",
      "Name: Read_FAQ, dtype: int64\n",
      "Class Basic: \n",
      " Yes    5\n",
      "No     2\n",
      "Name: Read_FAQ, dtype: int64\n",
      "Class Premium: \n",
      " No     3\n",
      "Yes    1\n",
      "Name: Read_FAQ, dtype: int64\n"
     ]
    }
   ],
   "source": [
    "class_none = predict_df[predict_df[\"Service_Chosen\"]== 'None']\n",
    "print(\"Class None: \\n\", class_none['Read_FAQ'].value_counts())\n",
    "class_none = predict_df[predict_df[\"Service_Chosen\"]== 'Basic']\n",
    "print(\"Class Basic: \\n\", class_none['Read_FAQ'].value_counts())\n",
    "class_none = predict_df[predict_df[\"Service_Chosen\"]== 'Premium']\n",
    "print(\"Class Premium: \\n\", class_none['Read_FAQ'].value_counts())"
   ]
  },
  {
   "cell_type": "code",
   "execution_count": 94,
   "metadata": {},
   "outputs": [
    {
     "name": "stdout",
     "output_type": "stream",
     "text": [
      "Class None: \n",
      " Mid     5\n",
      "Low     1\n",
      "High    1\n",
      "Name: Pages_Viewed, dtype: int64\n",
      "Class Basic: \n",
      " Mid     3\n",
      "High    2\n",
      "Low     2\n",
      "Name: Pages_Viewed, dtype: int64\n",
      "Class Premium: \n",
      " High    2\n",
      "Mid     2\n",
      "Name: Pages_Viewed, dtype: int64\n"
     ]
    }
   ],
   "source": [
    "class_none = predict_df[predict_df[\"Service_Chosen\"]== 'None']\n",
    "print(\"Class None: \\n\", class_none['Pages_Viewed'].value_counts())\n",
    "class_none = predict_df[predict_df[\"Service_Chosen\"]== 'Basic']\n",
    "print(\"Class Basic: \\n\", class_none['Pages_Viewed'].value_counts())\n",
    "class_none = predict_df[predict_df[\"Service_Chosen\"]== 'Premium']\n",
    "print(\"Class Premium: \\n\", class_none['Pages_Viewed'].value_counts())"
   ]
  },
  {
   "cell_type": "code",
   "execution_count": 99,
   "metadata": {},
   "outputs": [
    {
     "data": {
      "text/plain": [
       "0.8616541669070521"
      ]
     },
     "execution_count": 99,
     "metadata": {},
     "output_type": "execute_result"
    }
   ],
   "source": [
    "info_ref_s = -(3/3)*math.log2(3/3)\n",
    "info_ref_g = -(1/6)*math.log2(1/6) - (1/6)*math.log2(1/6) - (4/6)*math.log2(4/6)\n",
    "info_ref_d = -(1/4)*math.log2(1/4) - (3/4)*math.log2(3/4)\n",
    "info_ref_k = -(1/3)*math.log2(1/3) - (2/3)*math.log2(2/3) \n",
    "info_ref_di = -(1/2)*math.log2(1/2) - (1/2)*math.log2(1/2)\n",
    "info_ref = (3/18)*info_ref_s + (6/18)*info_ref_g + (4/18)*info_ref_d  + (3/18)*info_ref_k + (2/18)*info_ref_di\n",
    "info_ref"
   ]
  },
  {
   "cell_type": "code",
   "execution_count": 100,
   "metadata": {},
   "outputs": [
    {
     "data": {
      "text/plain": [
       "1.4374612767181787"
      ]
     },
     "execution_count": 100,
     "metadata": {},
     "output_type": "execute_result"
    }
   ],
   "source": [
    "info_loc = [0, 0, 0, 0]\n",
    "info_loc[0] = -(2/5)*math.log2(2/5) - (2/5)*math.log2(2/5) - (1/5)*math.log2(1/5)\n",
    "info_loc[1] = -(1/4)*math.log2(1/4) - (2/4)*math.log2(2/4) - (1/4)*math.log2(1/4)\n",
    "info_loc[2] = -3*(2/6)*math.log2(2/6)\n",
    "info_loc[3] = -(2/3)*math.log2(2/3) - (1/3)*math.log2(1/3)\n",
    "info_loc = (5/18)*info_loc[0] + (4/18)*info_loc[1] + (6/18)*info_loc[2] + (3/18)*info_loc[3]\n",
    "info_loc"
   ]
  },
  {
   "cell_type": "code",
   "execution_count": null,
   "metadata": {},
   "outputs": [],
   "source": []
  }
 ],
 "metadata": {
  "kernelspec": {
   "display_name": "Python 3",
   "language": "python",
   "name": "python3"
  },
  "language_info": {
   "codemirror_mode": {
    "name": "ipython",
    "version": 3
   },
   "file_extension": ".py",
   "mimetype": "text/x-python",
   "name": "python",
   "nbconvert_exporter": "python",
   "pygments_lexer": "ipython3",
   "version": "3.8.5"
  }
 },
 "nbformat": 4,
 "nbformat_minor": 2
}
